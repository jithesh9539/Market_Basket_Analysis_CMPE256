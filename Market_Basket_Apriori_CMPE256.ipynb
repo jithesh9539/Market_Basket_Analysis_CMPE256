{
  "nbformat": 4,
  "nbformat_minor": 0,
  "metadata": {
    "colab": {
      "name": "Market_Basket_Apriori_CMPE256",
      "provenance": [],
      "collapsed_sections": [],
      "authorship_tag": "ABX9TyMOBKwi5o7W3fWxrYB9tCC3",
      "include_colab_link": true
    },
    "kernelspec": {
      "name": "python3",
      "display_name": "Python 3"
    },
    "language_info": {
      "name": "python"
    }
  },
  "cells": [
    {
      "cell_type": "markdown",
      "metadata": {
        "id": "view-in-github",
        "colab_type": "text"
      },
      "source": [
        "<a href=\"https://colab.research.google.com/github/jithesh9539/Market_Basket_Analysis_CMPE256/blob/main/Market_Basket_Apriori_CMPE256.ipynb\" target=\"_parent\"><img src=\"https://colab.research.google.com/assets/colab-badge.svg\" alt=\"Open In Colab\"/></a>"
      ]
    },
    {
      "cell_type": "markdown",
      "metadata": {
        "id": "DdnGuuFk_GmV"
      },
      "source": [
        "**Importing Dependencies**"
      ]
    },
    {
      "cell_type": "code",
      "metadata": {
        "id": "W8ubCpX-uQd-"
      },
      "source": [
        "import pandas as pd\n",
        "from mlxtend.preprocessing import TransactionEncoder\n",
        "from mlxtend.frequent_patterns import apriori,association_rules"
      ],
      "execution_count": 2,
      "outputs": []
    },
    {
      "cell_type": "markdown",
      "metadata": {
        "id": "crTd-H1y_ot4"
      },
      "source": [
        "**Loading Dataset and formatting accordingly**"
      ]
    },
    {
      "cell_type": "code",
      "metadata": {
        "id": "3fTvJZ6zugan"
      },
      "source": [
        "df = pd.read_csv('/content/TRAIN-ARULES.csv')\n",
        "df.product_name = [\"\".join(i.split(\",\")) for i in df.product_name]\n",
        "orders = df.order_id.unique()\n",
        "transactions = [df[df.order_id == i][\"product_name\"].tolist() for i in orders]\n",
        "trans_encoder = TransactionEncoder().fit(transactions)\n",
        "transactions = trans_encoder.transform(transactions)\n",
        "transactions = pd.DataFrame(transactions,columns=trans_encoder.columns_)"
      ],
      "execution_count": 13,
      "outputs": []
    },
    {
      "cell_type": "markdown",
      "metadata": {
        "id": "SZkRNepm_62U"
      },
      "source": [
        "**Finding Frequent Itemset and Association rules**"
      ]
    },
    {
      "cell_type": "code",
      "metadata": {
        "id": "8hhflYM3-J5z"
      },
      "source": [
        "freq_itemset_using_apriori = apriori(transactions, min_support = 0.01, use_colnames = True)\n",
        "association_rules_using_apriori = association_rules(freq_itemset_using_apriori, metric = \"confidence\")"
      ],
      "execution_count": 14,
      "outputs": []
    },
    {
      "cell_type": "markdown",
      "metadata": {
        "id": "tcV1KTUSALmg"
      },
      "source": [
        "**Association rules using Apriori Method**"
      ]
    },
    {
      "cell_type": "code",
      "metadata": {
        "colab": {
          "base_uri": "https://localhost:8080/"
        },
        "id": "QlkyXqgK-P_e",
        "outputId": "8baca5fe-99c5-483b-a348-7ff9727063f6"
      },
      "source": [
        "print(\"Association Rules using Apriori Method:- \\n\")\n",
        "for item in association_rules_using_apriori.iterrows():\n",
        "  print(f\"Rule {item[0] + 1}: {tuple(item[1].antecedents)} -> {tuple(item[1].consequents)}\")"
      ],
      "execution_count": 15,
      "outputs": [
        {
          "output_type": "stream",
          "name": "stdout",
          "text": [
            "Association Rules using Apriori Method:- \n",
            "\n",
            "Rule 1: ('Authentic French Brioche',) -> ('Petit Suisse Fruit',)\n",
            "Rule 2: ('Petit Suisse Fruit',) -> ('Authentic French Brioche',)\n",
            "Rule 3: ('Oatmeal Crème Pies',) -> ('Cran-Apple Juice Drink',)\n",
            "Rule 4: ('Cran-Apple Juice Drink',) -> ('Oatmeal Crème Pies',)\n",
            "Rule 5: ('Sparkling Water Natural Mango Essenced',) -> ('Dark Chocolate Minis',)\n",
            "Rule 6: ('Grade A Extra Large Eggs',) -> ('Natural Lime Flavor Sparkling Mineral Water',)\n",
            "Rule 7: ('Lemon Sparkling Water',) -> ('Orange Sparkling Water',)\n",
            "Rule 8: ('Light Oaked Chardonnay',) -> ('Natural Lime Flavor Sparkling Mineral Water',)\n",
            "Rule 9: ('Reduced Fat Milk',) -> ('Natural Artesian Bottled Water',)\n",
            "Rule 10: ('Organic Graham Crunch Cereal',) -> ('Organic Heritage Flakes Cereal',)\n",
            "Rule 11: ('Sparkling Water Natural Mango Essenced',) -> ('Organic Pink Lemonade Bunny Fruit Snacks',)\n",
            "Rule 12: ('Sparkling Water Natural Mango Essenced',) -> ('Peach-Pear Sparkling Water',)\n",
            "Rule 13: ('Zero Calorie Cola',) -> ('Soda',)\n",
            "Rule 14: ('Total 0% Raspberry Yogurt',) -> ('Total 2% with Strawberry Lowfat Greek Strained Yogurt',)\n",
            "Rule 15: ('Total 2% Lowfat Greek Strained Yogurt With Blueberry',) -> ('Total 2% with Strawberry Lowfat Greek Strained Yogurt',)\n",
            "Rule 16: ('Organic Pink Lemonade Bunny Fruit Snacks', 'Peach-Pear Sparkling Water') -> ('Dark Chocolate Minis',)\n",
            "Rule 17: ('Dark Chocolate Minis', 'Peach-Pear Sparkling Water') -> ('Organic Pink Lemonade Bunny Fruit Snacks',)\n",
            "Rule 18: ('Organic Pink Lemonade Bunny Fruit Snacks', 'Sparkling Water Natural Mango Essenced') -> ('Dark Chocolate Minis',)\n",
            "Rule 19: ('Dark Chocolate Minis', 'Sparkling Water Natural Mango Essenced') -> ('Organic Pink Lemonade Bunny Fruit Snacks',)\n",
            "Rule 20: ('Sparkling Water Natural Mango Essenced',) -> ('Organic Pink Lemonade Bunny Fruit Snacks', 'Dark Chocolate Minis')\n",
            "Rule 21: ('Dark Chocolate Minis', 'Peach-Pear Sparkling Water') -> ('Sparkling Water Natural Mango Essenced',)\n",
            "Rule 22: ('Dark Chocolate Minis', 'Sparkling Water Natural Mango Essenced') -> ('Peach-Pear Sparkling Water',)\n",
            "Rule 23: ('Peach-Pear Sparkling Water', 'Sparkling Water Natural Mango Essenced') -> ('Dark Chocolate Minis',)\n",
            "Rule 24: ('Sparkling Water Natural Mango Essenced',) -> ('Dark Chocolate Minis', 'Peach-Pear Sparkling Water')\n",
            "Rule 25: ('Light Oaked Chardonnay', 'Grade A Extra Large Eggs') -> ('Natural Lime Flavor Sparkling Mineral Water',)\n",
            "Rule 26: ('Light Oaked Chardonnay', 'Natural Lime Flavor Sparkling Mineral Water') -> ('Grade A Extra Large Eggs',)\n",
            "Rule 27: ('Organic Heritage Flakes Cereal', 'Peach-Pear Sparkling Water') -> ('Organic Pink Lemonade Bunny Fruit Snacks',)\n",
            "Rule 28: ('Organic Pink Lemonade Bunny Fruit Snacks', 'Peach-Pear Sparkling Water') -> ('Sparkling Water Natural Mango Essenced',)\n",
            "Rule 29: ('Organic Pink Lemonade Bunny Fruit Snacks', 'Sparkling Water Natural Mango Essenced') -> ('Peach-Pear Sparkling Water',)\n",
            "Rule 30: ('Peach-Pear Sparkling Water', 'Sparkling Water Natural Mango Essenced') -> ('Organic Pink Lemonade Bunny Fruit Snacks',)\n",
            "Rule 31: ('Sparkling Water Natural Mango Essenced',) -> ('Organic Pink Lemonade Bunny Fruit Snacks', 'Peach-Pear Sparkling Water')\n",
            "Rule 32: ('Organic Pink Lemonade Bunny Fruit Snacks', 'Dark Chocolate Minis', 'Peach-Pear Sparkling Water') -> ('Sparkling Water Natural Mango Essenced',)\n",
            "Rule 33: ('Organic Pink Lemonade Bunny Fruit Snacks', 'Dark Chocolate Minis', 'Sparkling Water Natural Mango Essenced') -> ('Peach-Pear Sparkling Water',)\n",
            "Rule 34: ('Organic Pink Lemonade Bunny Fruit Snacks', 'Peach-Pear Sparkling Water', 'Sparkling Water Natural Mango Essenced') -> ('Dark Chocolate Minis',)\n",
            "Rule 35: ('Dark Chocolate Minis', 'Peach-Pear Sparkling Water', 'Sparkling Water Natural Mango Essenced') -> ('Organic Pink Lemonade Bunny Fruit Snacks',)\n",
            "Rule 36: ('Organic Pink Lemonade Bunny Fruit Snacks', 'Sparkling Water Natural Mango Essenced') -> ('Dark Chocolate Minis', 'Peach-Pear Sparkling Water')\n",
            "Rule 37: ('Dark Chocolate Minis', 'Peach-Pear Sparkling Water') -> ('Organic Pink Lemonade Bunny Fruit Snacks', 'Sparkling Water Natural Mango Essenced')\n",
            "Rule 38: ('Dark Chocolate Minis', 'Sparkling Water Natural Mango Essenced') -> ('Organic Pink Lemonade Bunny Fruit Snacks', 'Peach-Pear Sparkling Water')\n",
            "Rule 39: ('Peach-Pear Sparkling Water', 'Sparkling Water Natural Mango Essenced') -> ('Organic Pink Lemonade Bunny Fruit Snacks', 'Dark Chocolate Minis')\n"
          ]
        }
      ]
    },
    {
      "cell_type": "markdown",
      "metadata": {
        "id": "UHEzpoR9-hn5"
      },
      "source": [
        "**Load_Test_Rules**\n"
      ]
    },
    {
      "cell_type": "code",
      "metadata": {
        "colab": {
          "base_uri": "https://localhost:8080/"
        },
        "id": "kaifzxrH-T18",
        "outputId": "41e7fcc3-f23d-43b0-9595-6af9f410d178"
      },
      "source": [
        "data_frame_test = pd.read_csv('/content/testarules.csv')\n",
        "data_frame_test.product_name = [\"\".join(i.split(\",\")) for i in data_frame_test]"
      ],
      "execution_count": 6,
      "outputs": [
        {
          "output_type": "stream",
          "name": "stderr",
          "text": [
            "/usr/local/lib/python3.7/dist-packages/ipykernel_launcher.py:2: UserWarning: Pandas doesn't allow columns to be created via a new attribute name - see https://pandas.pydata.org/pandas-docs/stable/indexing.html#attribute-access\n",
            "  \n"
          ]
        }
      ]
    },
    {
      "cell_type": "code",
      "metadata": {
        "colab": {
          "base_uri": "https://localhost:8080/"
        },
        "id": "L5We4Ck2-omo",
        "outputId": "29ac406b-16d2-4bc6-c5d7-49b2e8413e16"
      },
      "source": [
        "data_frame_test['Item1']"
      ],
      "execution_count": 7,
      "outputs": [
        {
          "output_type": "execute_result",
          "data": {
            "text/plain": [
              "0    Dark Chocolate Minis\n",
              "Name: Item1, dtype: object"
            ]
          },
          "metadata": {},
          "execution_count": 7
        }
      ]
    },
    {
      "cell_type": "code",
      "metadata": {
        "colab": {
          "base_uri": "https://localhost:8080/",
          "height": 81
        },
        "id": "nkJl8e8E-tiZ",
        "outputId": "ba692fdb-0155-41ec-f289-e731b0bdd026"
      },
      "source": [
        "freq_itemset_using_apriori[ freq_itemset_using_apriori['itemsets'] == {'Dark Chocolate Minis'} ]"
      ],
      "execution_count": 8,
      "outputs": [
        {
          "output_type": "execute_result",
          "data": {
            "text/html": [
              "<div>\n",
              "<style scoped>\n",
              "    .dataframe tbody tr th:only-of-type {\n",
              "        vertical-align: middle;\n",
              "    }\n",
              "\n",
              "    .dataframe tbody tr th {\n",
              "        vertical-align: top;\n",
              "    }\n",
              "\n",
              "    .dataframe thead th {\n",
              "        text-align: right;\n",
              "    }\n",
              "</style>\n",
              "<table border=\"1\" class=\"dataframe\">\n",
              "  <thead>\n",
              "    <tr style=\"text-align: right;\">\n",
              "      <th></th>\n",
              "      <th>support</th>\n",
              "      <th>itemsets</th>\n",
              "    </tr>\n",
              "  </thead>\n",
              "  <tbody>\n",
              "    <tr>\n",
              "      <th>26</th>\n",
              "      <td>0.021157</td>\n",
              "      <td>(Dark Chocolate Minis)</td>\n",
              "    </tr>\n",
              "  </tbody>\n",
              "</table>\n",
              "</div>"
            ],
            "text/plain": [
              "     support                itemsets\n",
              "26  0.021157  (Dark Chocolate Minis)"
            ]
          },
          "metadata": {},
          "execution_count": 8
        }
      ]
    },
    {
      "cell_type": "code",
      "metadata": {
        "colab": {
          "base_uri": "https://localhost:8080/"
        },
        "id": "eGjmphxg-xbS",
        "outputId": "ec8f1e82-ef63-461b-d50c-2b147e2b4289"
      },
      "source": [
        "data_frame_test['Item2']"
      ],
      "execution_count": 9,
      "outputs": [
        {
          "output_type": "execute_result",
          "data": {
            "text/plain": [
              "0    Organic Pink Lemonade Bunny Fruit Snacks\n",
              "Name: Item2, dtype: object"
            ]
          },
          "metadata": {},
          "execution_count": 9
        }
      ]
    },
    {
      "cell_type": "code",
      "metadata": {
        "colab": {
          "base_uri": "https://localhost:8080/",
          "height": 81
        },
        "id": "iO9Bqm6y-1YJ",
        "outputId": "37bee984-17fa-4618-88e3-7139cd4299f3"
      },
      "source": [
        "freq_itemset_using_apriori[ freq_itemset_using_apriori['itemsets'] == {'Organic Pink Lemonade Bunny Fruit Snacks'} ]"
      ],
      "execution_count": 10,
      "outputs": [
        {
          "output_type": "execute_result",
          "data": {
            "text/html": [
              "<div>\n",
              "<style scoped>\n",
              "    .dataframe tbody tr th:only-of-type {\n",
              "        vertical-align: middle;\n",
              "    }\n",
              "\n",
              "    .dataframe tbody tr th {\n",
              "        vertical-align: top;\n",
              "    }\n",
              "\n",
              "    .dataframe thead th {\n",
              "        text-align: right;\n",
              "    }\n",
              "</style>\n",
              "<table border=\"1\" class=\"dataframe\">\n",
              "  <thead>\n",
              "    <tr style=\"text-align: right;\">\n",
              "      <th></th>\n",
              "      <th>support</th>\n",
              "      <th>itemsets</th>\n",
              "    </tr>\n",
              "  </thead>\n",
              "  <tbody>\n",
              "    <tr>\n",
              "      <th>97</th>\n",
              "      <td>0.020451</td>\n",
              "      <td>(Organic Pink Lemonade Bunny Fruit Snacks)</td>\n",
              "    </tr>\n",
              "  </tbody>\n",
              "</table>\n",
              "</div>"
            ],
            "text/plain": [
              "     support                                    itemsets\n",
              "97  0.020451  (Organic Pink Lemonade Bunny Fruit Snacks)"
            ]
          },
          "metadata": {},
          "execution_count": 10
        }
      ]
    },
    {
      "cell_type": "code",
      "metadata": {
        "colab": {
          "base_uri": "https://localhost:8080/"
        },
        "id": "szPqNzKU-4mS",
        "outputId": "babee19d-964f-4f83-9b92-a1cda78ae44a"
      },
      "source": [
        "data_frame_test['Item3']"
      ],
      "execution_count": 11,
      "outputs": [
        {
          "output_type": "execute_result",
          "data": {
            "text/plain": [
              "0    Peach-Pear Sparkling Water\n",
              "Name: Item3, dtype: object"
            ]
          },
          "metadata": {},
          "execution_count": 11
        }
      ]
    },
    {
      "cell_type": "code",
      "metadata": {
        "colab": {
          "base_uri": "https://localhost:8080/",
          "height": 81
        },
        "id": "h-7ApQfq-81i",
        "outputId": "21fb69eb-b610-4f2b-8af0-468c98a1042a"
      },
      "source": [
        "freq_itemset_using_apriori[ freq_itemset_using_apriori['itemsets'] == {'Peach-Pear Sparkling Water'} ]"
      ],
      "execution_count": 12,
      "outputs": [
        {
          "output_type": "execute_result",
          "data": {
            "text/html": [
              "<div>\n",
              "<style scoped>\n",
              "    .dataframe tbody tr th:only-of-type {\n",
              "        vertical-align: middle;\n",
              "    }\n",
              "\n",
              "    .dataframe tbody tr th {\n",
              "        vertical-align: top;\n",
              "    }\n",
              "\n",
              "    .dataframe thead th {\n",
              "        text-align: right;\n",
              "    }\n",
              "</style>\n",
              "<table border=\"1\" class=\"dataframe\">\n",
              "  <thead>\n",
              "    <tr style=\"text-align: right;\">\n",
              "      <th></th>\n",
              "      <th>support</th>\n",
              "      <th>itemsets</th>\n",
              "    </tr>\n",
              "  </thead>\n",
              "  <tbody>\n",
              "    <tr>\n",
              "      <th>116</th>\n",
              "      <td>0.016925</td>\n",
              "      <td>(Peach-Pear Sparkling Water)</td>\n",
              "    </tr>\n",
              "  </tbody>\n",
              "</table>\n",
              "</div>"
            ],
            "text/plain": [
              "      support                      itemsets\n",
              "116  0.016925  (Peach-Pear Sparkling Water)"
            ]
          },
          "metadata": {},
          "execution_count": 12
        }
      ]
    }
  ]
}